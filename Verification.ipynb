{
 "cells": [
  {
   "cell_type": "code",
   "execution_count": 2,
   "id": "b5a657c7-08ef-4a5d-8616-43eaa0777c55",
   "metadata": {},
   "outputs": [
    {
     "name": "stdout",
     "output_type": "stream",
     "text": [
      "out1_r: 13, out1_i: 7, out2_r: 5, out2_i: 27\n",
      "out1_r: 18, out1_i: 9, out2_r: 1, out2_i: 8\n"
     ]
    }
   ],
   "source": [
    "def complex_mult(a_r, a_i, b_r, b_i):\n",
    "    \"\"\"Complex multiplication: (a_r + a_i*j) * (b_r + b_i*j)\"\"\"\n",
    "    real_part = a_r * b_r - a_i * b_i\n",
    "    imag_part = a_r * b_i + a_i * b_r\n",
    "    return real_part, imag_part\n",
    "\n",
    "def butterfly(in1_r, in1_i, in2_r, in2_i, w_r, w_i):\n",
    "    \"\"\"Butterfly operation for FFT\"\"\"\n",
    "    out1_r = in1_r + in2_r\n",
    "    out1_i = in1_i + in2_i\n",
    "\n",
    "    z1_r = in1_r - in2_r\n",
    "    z1_i = in1_i - in2_i\n",
    "\n",
    "    out2_r, out2_i = complex_mult(z1_r, z1_i, w_r, w_i)\n",
    "\n",
    "    return out1_r, out1_i, out2_r, out2_i\n",
    "\n",
    "# Test Case\n",
    "def test_butterfly():\n",
    "    in1_r = 10\n",
    "    in1_i = 5\n",
    "    in2_r = 3\n",
    "    in2_i = 2\n",
    "    w_r = 2\n",
    "    w_i = 3\n",
    "\n",
    "    out1_r, out1_i, out2_r, out2_i = butterfly(in1_r, in1_i, in2_r, in2_i, w_r, w_i)\n",
    "\n",
    "    print(f\"out1_r: {out1_r}, out1_i: {out1_i}, out2_r: {out2_r}, out2_i: {out2_i}\")\n",
    "\n",
    "    in2_r = 8\n",
    "    in2_i = 4\n",
    "     \n",
    "    out1_r, out1_i, out2_r, out2_i = butterfly(in1_r, in1_i, in2_r, in2_i, w_r, w_i)\n",
    "\n",
    "    print(f\"out1_r: {out1_r}, out1_i: {out1_i}, out2_r: {out2_r}, out2_i: {out2_i}\")\n",
    "    \n",
    "# Run the test case\n",
    "test_butterfly()"
   ]
  },
  {
   "cell_type": "markdown",
   "id": "522c6aea-13ff-4273-aef3-4c440626b2fc",
   "metadata": {},
   "source": [
    "Butterfly works\n",
    "<br />\n",
    "iverilog output:\n",
    "\n",
    "`\n",
    "out1_r:    13, out1_i:     7, out2_r:     5, out2_i:    27\n",
    "out1_r:    18, out1_i:     9, out2_r:     1, out2_i:     8\n",
    "testbench.sv:58: $finish called at 20 (1s)\n",
    "`"
   ]
  },
  {
   "cell_type": "code",
   "execution_count": null,
   "id": "de303138-2274-48a4-9e71-c359e641131c",
   "metadata": {},
   "outputs": [],
   "source": []
  }
 ],
 "metadata": {
  "kernelspec": {
   "display_name": "Python 3 (ipykernel)",
   "language": "python",
   "name": "python3"
  },
  "language_info": {
   "codemirror_mode": {
    "name": "ipython",
    "version": 3
   },
   "file_extension": ".py",
   "mimetype": "text/x-python",
   "name": "python",
   "nbconvert_exporter": "python",
   "pygments_lexer": "ipython3",
   "version": "3.12.3"
  }
 },
 "nbformat": 4,
 "nbformat_minor": 5
}
